{
 "metadata": {
  "name": "",
  "signature": "sha256:010f8a45a8ef1291c596e4cafd34c24a05165560e8525dccfd15230084449911"
 },
 "nbformat": 3,
 "nbformat_minor": 0,
 "worksheets": [
  {
   "cells": [
    {
     "cell_type": "code",
     "collapsed": false,
     "input": [
      "import os\n",
      "\n",
      "def save_template(directory, tag):\n",
      "    tag_template = \"\"\"---\n",
      "layout: blog\n",
      "tag_search: %s\n",
      "---\n",
      "\n",
      "{%% include tags_index.html %%}\"\"\" %(tag)\n",
      "    \n",
      "    total_path = os.path.join(directory, tag) + '/index.html'\n",
      "    f = open(total_path, 'a')\n",
      "    f.write(tag_template)\n",
      "    f.close()\n",
      "\n",
      "directory = 'tags'\n",
      "    \n",
      "dir_post = '_posts'\n",
      "file_list = []\n",
      "\n",
      "start_tags_line = 'tags:'\n",
      "tag_set = set()\n",
      "tag_list = []\n",
      "\n",
      "# All file names where I'm looking the tags\n",
      "for file in os.listdir(dir_post):\n",
      "    if file.endswith(\".md\") or file.endswith(\".markdown\"):\n",
      "        file_list.append(os.path.join(dir_post, file))\n",
      "\n",
      "# All tags into list\n",
      "for file in file_list:\n",
      "    with open(file, \"r\") as post:\n",
      "        for line in post.readlines():\n",
      "            if line.startswith(start_tags_line):\n",
      "                text, tags = line.split(start_tags_line)\n",
      "                \n",
      "                tags = ''.join(tags.split())\n",
      "                if tags.endswith('/n'):\n",
      "                    tags, args = tags.split('/n')\n",
      "\n",
      "                a = [s.strip() for s in tags[1:-1].split(',')]\n",
      "                tag_list.append(a)\n",
      "\n",
      "# In tag_list are tag repeated. Using set, are remove.\n",
      "for i in range(len(tag_list)):\n",
      "    a = set(tag_list[i])\n",
      "    tag_set= tag_set | a\n",
      "    \n",
      "tag_list = list(tag_set)\n",
      "for i in range(len(tag_list)):\n",
      "    tag_list[i] = tag_list[i].lower()\n",
      "\n",
      "if not os.path.exists(directory):\n",
      "    os.makedirs(directory)\n",
      "    \n",
      "print(tag_list)\n",
      "    \n",
      "for tag in tag_list:\n",
      "    total_path = os.path.join(directory, tag)\n",
      "    print(total_path)\n",
      "    if not os.path.exists(total_path):\n",
      "        os.makedirs(total_path)\n",
      "        print(directory, tag, '\\n\\n\\n')\n",
      "        save_template(directory, tag)"
     ],
     "language": "python",
     "metadata": {},
     "outputs": [
      {
       "output_type": "stream",
       "stream": "stdout",
       "text": [
        "['test', 'jekyll', 'example', 'tag2', 'tag3', 'tag1']\n",
        "tags/test\n",
        "tags test \n",
        "\n",
        "\n",
        "\n",
        "tags/jekyll\n",
        "tags jekyll \n",
        "\n",
        "\n",
        "\n",
        "tags/example\n",
        "tags example \n",
        "\n",
        "\n",
        "\n",
        "tags/tag2\n",
        "tags tag2 \n",
        "\n",
        "\n",
        "\n",
        "tags/tag3\n",
        "tags tag3 \n",
        "\n",
        "\n",
        "\n",
        "tags/tag1\n",
        "tags"
       ]
      },
      {
       "output_type": "stream",
       "stream": "stdout",
       "text": [
        " tag1 \n",
        "\n",
        "\n",
        "\n"
       ]
      }
     ],
     "prompt_number": 1
    },
    {
     "cell_type": "code",
     "collapsed": false,
     "input": [
      "f = open('tag1/test.html', 'a')\n",
      "f.write('spam')\n",
      "f.close()"
     ],
     "language": "python",
     "metadata": {},
     "outputs": [],
     "prompt_number": 12
    },
    {
     "cell_type": "code",
     "collapsed": false,
     "input": [
      "path = os.path.join('tag1', 'tag')\n",
      "path"
     ],
     "language": "python",
     "metadata": {},
     "outputs": [
      {
       "metadata": {},
       "output_type": "pyout",
       "prompt_number": 4,
       "text": [
        "'tag1/tag'"
       ]
      }
     ],
     "prompt_number": 4
    },
    {
     "cell_type": "code",
     "collapsed": false,
     "input": [],
     "language": "python",
     "metadata": {},
     "outputs": []
    }
   ],
   "metadata": {}
  }
 ]
}